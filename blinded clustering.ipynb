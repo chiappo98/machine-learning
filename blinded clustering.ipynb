{
 "cells": [
  {
   "cell_type": "markdown",
   "metadata": {},
   "source": [
    "## Blinded cameras clustering"
   ]
  },
  {
   "cell_type": "markdown",
   "metadata": {},
   "source": [
    "Here the dataset is a pandas DataFrame generated from a response.drdf file. \n",
    "The file can be found at \"/storage/gpfs_data/neutrino/SAND-LAr/SAND-LAr-GRAIN-CALORIMETRY/data/cube_production/production1/cube_X0_Y0_Z-3/output/response_cut.drdf\"."
   ]
  },
  {
   "cell_type": "code",
   "execution_count": 1,
   "metadata": {},
   "outputs": [
    {
     "name": "stdout",
     "output_type": "stream",
     "text": [
      "      event        source                                             pixels\n",
      "0      1115     CAM_NB_X0  [[1.034386, 0.0, 0.0, 0.0, 0.0, 0.0, 0.0, 0.0,...\n",
      "1      1115     CAM_NB_X1  [[2.8447123, 1.9851313, 1.191889, 0.0, 1.02277...\n",
      "2      1115     CAM_NB_X2  [[0.0, 0.0, 2.0428712, 1.8089218, 1.1883966, 0...\n",
      "3      1115     CAM_NB_X3  [[3.2495024, 4.1333947, 3.7861702, 0.0, 0.0, 0...\n",
      "4      1115     CAM_NB_X4  [[0.0, 0.0, 0.0, 1.105229, 2.885855, 0.0, 1.99...\n",
      "...     ...           ...                                                ...\n",
      "46963  9971  CAM_NW_X4_Y0  [[0.0, 0.0, 0.0, 0.0, 0.0, 0.0, 0.0, 0.0, 0.0,...\n",
      "46964  9971  CAM_NW_X4_Y1  [[0.0, 1.0074149, 1.0259163, 0.0, 0.0, 0.0, 0....\n",
      "46965  9971  CAM_NW_X4_Y2  [[1.0870417, 0.0, 2.0022357, 0.0, 0.0, 0.0, 0....\n",
      "46966  9971  CAM_NW_X4_Y3  [[1.110016, 0.0, 1.0556537, 0.0, 1.0331444, 0....\n",
      "46967  9971  CAM_NW_X4_Y4  [[0.0, 0.0, 0.0, 1.04492, 0.0, 0.0, 0.0, 0.0, ...\n",
      "\n",
      "[46968 rows x 3 columns]\n"
     ]
    }
   ],
   "source": [
    "import os \n",
    "import pandas as pd\n",
    "\n",
    "module_path = os.path.abspath(os.path.join('..'))\n",
    "\n",
    "df = pd.read_pickle(module_path+\"\\\\blind_cameras_dataset\\\\drdf_arrays.pkl\")\n",
    "print(df)"
   ]
  },
  {
   "cell_type": "markdown",
   "metadata": {},
   "source": [
    "Select the \"pixel\" column"
   ]
  },
  {
   "cell_type": "code",
   "execution_count": 2,
   "metadata": {},
   "outputs": [
    {
     "name": "stdout",
     "output_type": "stream",
     "text": [
      "(32, 32)\n",
      "[[2.8447123 1.9851313 1.191889  ... 0.        0.        0.       ]\n",
      " [0.        0.        0.        ... 1.8256596 1.0067585 0.       ]\n",
      " [0.        0.        0.        ... 1.1196092 0.        0.       ]\n",
      " ...\n",
      " [0.        3.6965072 0.        ... 1.8989851 0.        1.0608884]\n",
      " [1.8520955 1.998716  0.        ... 1.1125447 0.        2.2081091]\n",
      " [2.1184785 1.9732714 0.        ... 0.        0.        1.955647 ]]\n",
      "(46968,)\n"
     ]
    }
   ],
   "source": [
    "dArr = df.pixels.to_numpy()\n",
    "print(dArr[1].shape)\n",
    "print(dArr[1])\n",
    "print(dArr.shape)"
   ]
  },
  {
   "cell_type": "markdown",
   "metadata": {},
   "source": [
    "From the column data a numpy 2d array is created, at the same time the matrix representing each camera is flattened into a 1d array"
   ]
  },
  {
   "cell_type": "code",
   "execution_count": 4,
   "metadata": {},
   "outputs": [
    {
     "name": "stdout",
     "output_type": "stream",
     "text": [
      "(1024, 46969)\n"
     ]
    }
   ],
   "source": [
    "import numpy as np\n",
    "data = np.zeros(1024)\n",
    "for i in range(dArr.shape[0]):\n",
    "    #dArr[i] = dArr[i].flatten()\n",
    "    data = np.column_stack((data,dArr[i].flatten()))\n",
    "print(data.shape)"
   ]
  },
  {
   "cell_type": "markdown",
   "metadata": {},
   "source": [
    "Transpose the 2d array to keep different cameras in the rows, while columns represent the pixels"
   ]
  },
  {
   "cell_type": "code",
   "execution_count": 5,
   "metadata": {},
   "outputs": [
    {
     "name": "stdout",
     "output_type": "stream",
     "text": [
      "(46969, 1024)\n"
     ]
    }
   ],
   "source": [
    "dataT = data.T\n",
    "print(dataT.shape)"
   ]
  },
  {
   "cell_type": "markdown",
   "metadata": {},
   "source": [
    "Use the KMean algorithm to clusterise the datasample.\n",
    "The same data are the processed to check the clusterization."
   ]
  },
  {
   "cell_type": "code",
   "execution_count": 6,
   "metadata": {},
   "outputs": [
    {
     "name": "stdout",
     "output_type": "stream",
     "text": [
      "[0 0 0 ... 0 0 0]\n"
     ]
    }
   ],
   "source": [
    "from sklearn.cluster import KMeans\n",
    "\n",
    "# Declaring Model\n",
    "model = KMeans(n_clusters=2)\n",
    "\n",
    "# Fitting Model\n",
    "model.fit(dataT)\n",
    "\n",
    "# Prediction on the entire data\n",
    "all_predictions = model.predict(dataT)\n",
    "\n",
    "# Printing Predictions\n",
    "print(all_predictions)"
   ]
  },
  {
   "cell_type": "code",
   "execution_count": 10,
   "metadata": {},
   "outputs": [
    {
     "name": "stdout",
     "output_type": "stream",
     "text": [
      "(46969,)\n",
      "46884\n",
      "85\n",
      "(array([  854,  1006,  1128,  1842,  5464,  5490,  7162,  7361,  8530,\n",
      "        8576,  8606,  8652,  9792,  9944, 10172, 10582, 11266, 12254,\n",
      "       12482, 12634, 13288, 13364, 13972, 14230, 14534, 15294, 15340,\n",
      "       15341, 15720, 15750, 16556, 16967, 17194, 17696, 17878, 18157,\n",
      "       19094, 19170, 19246, 19322, 19368, 19626, 20918, 22331, 22666,\n",
      "       24186, 25098, 29856, 30008, 30570, 31482, 31558, 32060, 32313,\n",
      "       32546, 32744, 33200, 33230, 33656, 35890, 35935, 35936, 36878,\n",
      "       37258, 38140, 38474, 38520, 39006, 39051, 39052, 39128, 39614,\n",
      "       39660, 39766, 40070, 41970, 42016, 42198, 42325, 43688, 43840,\n",
      "       44554, 45010, 45111, 46729], dtype=int64),)\n"
     ]
    }
   ],
   "source": [
    "print(all_predictions.shape)\n",
    "print(np.count_nonzero(all_predictions == 0))\n",
    "print(np.count_nonzero(all_predictions == 1))\n",
    "print(np.where(all_predictions == 1))"
   ]
  },
  {
   "cell_type": "code",
   "execution_count": 23,
   "metadata": {},
   "outputs": [
    {
     "data": {
      "text/plain": [
       "event                                                  1977\n",
       "source                                         CAM_NE_X2_Y3\n",
       "pixels    [[1.0548458, 7.31901, 2.2687764, 3.7038498, 5....\n",
       "Name: 854, dtype: object"
      ]
     },
     "execution_count": 23,
     "metadata": {},
     "output_type": "execute_result"
    }
   ],
   "source": [
    "df.iloc[854]"
   ]
  },
  {
   "cell_type": "markdown",
   "metadata": {},
   "source": [
    "Plot an example of camera from cluster \"1\". For this cluster doesn't seem to contain blinded cameras.\n",
    "\n",
    "**Could this be due to a small number of true blinded cameras in this sample??**\n",
    "\n",
    "In some way I should plot all the cameras of the sample to find the effective number of blinded cameras"
   ]
  },
  {
   "cell_type": "code",
   "execution_count": 22,
   "metadata": {},
   "outputs": [
    {
     "data": {
      "text/plain": [
       "<matplotlib.colorbar.Colorbar at 0x1c2fb1be800>"
      ]
     },
     "execution_count": 22,
     "metadata": {},
     "output_type": "execute_result"
    },
    {
     "data": {
      "image/png": "[encoded data removed]",
      "text/plain": [
       "<Figure size 640x480 with 2 Axes>"
      ]
     },
     "metadata": {},
     "output_type": "display_data"
    }
   ],
   "source": [
    "from matplotlib import pyplot as plt\n",
    "camera = np.reshape(df.iloc[7162].pixels, (32,32))\n",
    "plt.pcolormesh(camera)\n",
    "plt.colorbar()"
   ]
  },
  {
   "cell_type": "code",
   "execution_count": null,
   "metadata": {},
   "outputs": [],
   "source": []
  }
 ],
 "metadata": {
  "kernelspec": {
   "display_name": "Python 3.10.6 64-bit",
   "language": "python",
   "name": "python3"
  },
  "language_info": {
   "codemirror_mode": {
    "name": "ipython",
    "version": 3
   },
   "file_extension": ".py",
   "mimetype": "text/x-python",
   "name": "python",
   "nbconvert_exporter": "python",
   "pygments_lexer": "ipython3",
   "version": "3.10.6"
  },
  "orig_nbformat": 4,
  "vscode": {
   "interpreter": {
    "hash": "0d3a2212c6ea9909c99d276ccee16ce70ccbb8ee28c7688b0b9cee09dfbfc972"
   }
  }
 },
 "nbformat": 4,
 "nbformat_minor": 2
}
