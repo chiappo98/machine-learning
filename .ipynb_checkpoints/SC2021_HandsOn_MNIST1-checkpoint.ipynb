{
 "cells": [
  {
   "cell_type": "markdown",
   "metadata": {
    "id": "VAntzoNg9CSO"
   },
   "source": [
    "# <font color='red'>Classification (part 1)</font>"
   ]
  },
  {
   "cell_type": "markdown",
   "metadata": {
    "id": "eY9d6F6q0ywi"
   },
   "source": [
    "The task is to teach a machine how to learn to recognize hand-written digits (MNIST)."
   ]
  },
  {
   "cell_type": "markdown",
   "metadata": {
    "id": "F-oykuN1zXpF"
   },
   "source": [
    "# **Practice C1**: Set-up"
   ]
  },
  {
   "cell_type": "code",
   "execution_count": 1,
   "metadata": {
    "id": "y1Dw3odGzXpG"
   },
   "outputs": [],
   "source": [
    "#numpy\n",
    "import numpy as np\n",
    "#sklearn\n",
    "import sklearn\n",
    "# matplotlib\n",
    "%matplotlib inline\n",
    "import matplotlib as mpl\n",
    "import matplotlib.pyplot as plt"
   ]
  },
  {
   "cell_type": "markdown",
   "metadata": {
    "id": "hXj6fz_ozXpL"
   },
   "source": [
    "# **Practice C2**: Import the data and briefly inspect it"
   ]
  },
  {
   "cell_type": "code",
   "execution_count": null,
   "metadata": {
    "id": "aIj1TotXzXpM"
   },
   "outputs": [],
   "source": [
    "from sklearn.datasets import fetch_openml\n",
    "mnist = fetch_openml('mnist_784', version=1)\n",
    "mnist.keys()"
   ]
  },
  {
   "cell_type": "code",
   "execution_count": null,
   "metadata": {
    "id": "mr1UNRlVzXpO"
   },
   "outputs": [],
   "source": [
    "X, y = mnist[\"data\"], mnist[\"target\"]"
   ]
  },
  {
   "cell_type": "markdown",
   "metadata": {
    "id": "tqWQ8M9-2e9t"
   },
   "source": [
    "Familiarize a bit with the content of X and y."
   ]
  },
  {
   "cell_type": "code",
   "execution_count": null,
   "metadata": {
    "id": "aZMV7IhzzXpQ"
   },
   "outputs": [],
   "source": [
    "X.shape"
   ]
  },
  {
   "cell_type": "code",
   "execution_count": null,
   "metadata": {
    "id": "o3HLcy9ZzXpT"
   },
   "outputs": [],
   "source": [
    "y.shape"
   ]
  },
  {
   "cell_type": "code",
   "execution_count": null,
   "metadata": {
    "id": "bVFGj81WzXpW"
   },
   "outputs": [],
   "source": [
    "28*28"
   ]
  },
  {
   "cell_type": "code",
   "execution_count": null,
   "metadata": {
    "id": "W2v76By8zXpb"
   },
   "outputs": [],
   "source": [
    "X[0]"
   ]
  },
  {
   "cell_type": "code",
   "execution_count": null,
   "metadata": {
    "id": "eG9FSDXvzXpd"
   },
   "outputs": [],
   "source": [
    "some_digit = X[0]\n",
    "some_digit_image = some_digit.reshape(28, 28)\n",
    "plt.imshow(some_digit_image)"
   ]
  },
  {
   "cell_type": "code",
   "execution_count": null,
   "metadata": {
    "id": "EJKqtxrKzXpg"
   },
   "outputs": [],
   "source": [
    "some_digit = X[0]\n",
    "some_digit_image = some_digit.reshape(28, 28)\n",
    "plt.imshow(some_digit_image, cmap = mpl.cm.binary, interpolation=\"nearest\")\n",
    "plt.axis(\"off\")\n",
    "plt.show()\n"
   ]
  },
  {
   "cell_type": "markdown",
   "metadata": {
    "id": "BmO1VyztzXpi"
   },
   "source": [
    "As expected, the label for this is:"
   ]
  },
  {
   "cell_type": "code",
   "execution_count": null,
   "metadata": {
    "id": "d3d1p6i_zXpi"
   },
   "outputs": [],
   "source": [
    "y[0]"
   ]
  },
  {
   "cell_type": "markdown",
   "metadata": {
    "id": "o80ikhnIzXpk"
   },
   "source": [
    "Which is a string:"
   ]
  },
  {
   "cell_type": "code",
   "execution_count": null,
   "metadata": {
    "id": "eytj_NZvzXpl"
   },
   "outputs": [],
   "source": [
    "type(y[0])"
   ]
  },
  {
   "cell_type": "markdown",
   "metadata": {
    "id": "YxvtW4iWzXpn"
   },
   "source": [
    "For sure I want to cast all these into integers:"
   ]
  },
  {
   "cell_type": "code",
   "execution_count": null,
   "metadata": {
    "id": "fdyNgFdjzXpn"
   },
   "outputs": [],
   "source": [
    "y = y.astype(np.uint8)\n",
    "y[0]"
   ]
  },
  {
   "cell_type": "code",
   "execution_count": null,
   "metadata": {
    "id": "N-nZ0y57zXps"
   },
   "outputs": [],
   "source": [
    "type(y[0])"
   ]
  },
  {
   "cell_type": "markdown",
   "metadata": {
    "id": "9OYV6k2LzXpu"
   },
   "source": [
    "# **Practice C3**: Train-test splitting"
   ]
  },
  {
   "cell_type": "code",
   "execution_count": null,
   "metadata": {
    "id": "-MfPUMzAzXpv"
   },
   "outputs": [],
   "source": [
    "X_train, X_test, y_train, y_test = X[:60000], X[60000:], y[:60000], y[60000:]"
   ]
  },
  {
   "cell_type": "code",
   "execution_count": null,
   "metadata": {
    "id": "q4SLqWHuzXpx"
   },
   "outputs": [],
   "source": [
    "X_train.shape"
   ]
  },
  {
   "cell_type": "code",
   "execution_count": null,
   "metadata": {
    "id": "cXGsX0zWzXp0"
   },
   "outputs": [],
   "source": [
    "X_test.shape"
   ]
  },
  {
   "cell_type": "code",
   "execution_count": null,
   "metadata": {
    "id": "Y9rnzWhyzXp3"
   },
   "outputs": [],
   "source": [
    "y_train.shape"
   ]
  },
  {
   "cell_type": "code",
   "execution_count": null,
   "metadata": {
    "id": "Nm_yA_GCzXp5"
   },
   "outputs": [],
   "source": [
    "y_test.shape"
   ]
  },
  {
   "cell_type": "markdown",
   "metadata": {
    "id": "0Gy_d-whzXqA"
   },
   "source": [
    "# **Practice C4**: Build a binary classifier: a \"5-detector\""
   ]
  },
  {
   "cell_type": "markdown",
   "metadata": {
    "id": "JFxWMPRRzXqC"
   },
   "source": [
    "Create the label vectors (for both the train and test set):"
   ]
  },
  {
   "cell_type": "code",
   "execution_count": null,
   "metadata": {
    "id": "9YVH1YZEzXqD"
   },
   "outputs": [],
   "source": [
    "y_train_5 = (y_train == 5)\n",
    "y_test_5 = (y_test == 5)"
   ]
  },
  {
   "cell_type": "code",
   "execution_count": null,
   "metadata": {
    "id": "VLSax-FjzXqF"
   },
   "outputs": [],
   "source": [
    "y_train_5.shape"
   ]
  },
  {
   "cell_type": "code",
   "execution_count": null,
   "metadata": {
    "id": "2ahDOPrLzXqH"
   },
   "outputs": [],
   "source": [
    "y_train"
   ]
  },
  {
   "cell_type": "code",
   "execution_count": null,
   "metadata": {
    "id": "T_tua17wzXqJ"
   },
   "outputs": [],
   "source": [
    "y_train_5  "
   ]
  },
  {
   "cell_type": "code",
   "execution_count": null,
   "metadata": {
    "id": "2JQDjpu4zXqR"
   },
   "outputs": [],
   "source": [
    "from sklearn.linear_model import SGDClassifier\n",
    "\n",
    "sgd_clf = SGDClassifier(max_iter=1000, tol=1e-3, random_state=42)\n",
    "sgd_clf.fit(X_train, y_train_5)\n",
    "\n",
    "# note: hyperparameters set to future default values in future versions on sklearn. "
   ]
  },
  {
   "cell_type": "markdown",
   "metadata": {
    "id": "0_xXiIZOzXqT"
   },
   "source": [
    "I know that X[0] is a 5, X[1] is a 0, X[2] is a 4:"
   ]
  },
  {
   "cell_type": "code",
   "execution_count": null,
   "metadata": {
    "id": "FHglaK9yzXqU"
   },
   "outputs": [],
   "source": [
    "print \"y[0] =\", y[0]\n",
    "print \"y[1] =\", y[1]\n",
    "print \"y[2] =\", y[2]"
   ]
  },
  {
   "cell_type": "markdown",
   "metadata": {
    "id": "3zZ932bVzXqX"
   },
   "source": [
    "Let's check if the classifier we built above works for these 3 examples:"
   ]
  },
  {
   "cell_type": "code",
   "execution_count": null,
   "metadata": {
    "id": "I4Tpo3AmzXqY"
   },
   "outputs": [],
   "source": [
    "sgd_clf.predict([X[0]]) # X[0] is a 5"
   ]
  },
  {
   "cell_type": "code",
   "execution_count": null,
   "metadata": {
    "id": "XsFclWq5zXqZ"
   },
   "outputs": [],
   "source": [
    "sgd_clf.predict([X[1]]) # X[1] is a 0, so NOT a 5"
   ]
  },
  {
   "cell_type": "code",
   "execution_count": null,
   "metadata": {
    "id": "SUmtFkUczXqf"
   },
   "outputs": [],
   "source": [
    "sgd_clf.predict([X[2]]) # X[2] is a 4, so NOT a 5"
   ]
  },
  {
   "cell_type": "markdown",
   "metadata": {
    "id": "vunTkOEwzXqh"
   },
   "source": [
    "OK, it works!\n",
    "\n",
    "So, how accurate is this model?"
   ]
  },
  {
   "cell_type": "markdown",
   "metadata": {
    "id": "fnE0zKUDzXqh"
   },
   "source": [
    "# **Practice C5**: Compute the accuracy"
   ]
  },
  {
   "cell_type": "markdown",
   "metadata": {
    "id": "A1z94evhzXqi"
   },
   "source": [
    "We opted for a train-test split, so most rapid is to ask for the score in this way:"
   ]
  },
  {
   "cell_type": "code",
   "execution_count": null,
   "metadata": {
    "id": "tfSlZYY_zXqj"
   },
   "outputs": [],
   "source": [
    "sgd_clf.score(X_test, y_test_5)"
   ]
  },
  {
   "cell_type": "markdown",
   "metadata": {
    "id": "gWb4-CSgzXqk"
   },
   "source": [
    "Actually, k-fold cross-validation would be similar or better - and would also allow you to get insight on its variance. Let's try it out."
   ]
  },
  {
   "cell_type": "markdown",
   "metadata": {
    "id": "f9DoD3kNzXql"
   },
   "source": [
    "Use `cross_val_score()` function in sklearn to evaluate your SGDClassifier model using k-fold cross-validation, with k=3, i.e. make k trainings: split the training set into k folds, train and make predictions and evaluate them on each fold using a model trained on the remaining folds."
   ]
  },
  {
   "cell_type": "code",
   "execution_count": null,
   "metadata": {
    "id": "9j1kalhMzXql"
   },
   "outputs": [],
   "source": [
    "y_5 = (y == 5)\n",
    "y_5.shape"
   ]
  },
  {
   "cell_type": "code",
   "execution_count": null,
   "metadata": {
    "id": "1I5ybB9CzXqo"
   },
   "outputs": [],
   "source": [
    "from sklearn.model_selection import cross_val_score\n",
    "cross_val_score(sgd_clf, X, y_5, cv=3, scoring=\"accuracy\")\n",
    "\n",
    "# this trigger the training of cv=3 models, so it might take a while to complete!"
   ]
  },
  {
   "cell_type": "markdown",
   "metadata": {
    "id": "GkKAFXWbzXqq"
   },
   "source": [
    "*Really?! Such a high accuracy at first attempt?! Are you sure this is reliable?*"
   ]
  },
  {
   "cell_type": "markdown",
   "metadata": {
    "id": "wcoPYBGXzXqq"
   },
   "source": [
    "# **Practice C6**: Confusion matrix: looking for a better performance metrics"
   ]
  },
  {
   "cell_type": "code",
   "execution_count": null,
   "metadata": {
    "id": "JbcZsKCLzXqs"
   },
   "outputs": [],
   "source": [
    "from sklearn.model_selection import cross_val_predict\n",
    "\n",
    "y_pred = cross_val_predict(sgd_clf, X, y_5, cv=3)\n",
    "\n",
    "# this trigger the training of cv=3 models, so it might take a while to complete!"
   ]
  },
  {
   "cell_type": "code",
   "execution_count": null,
   "metadata": {
    "id": "EHmEqP8lzXqw",
    "scrolled": false
   },
   "outputs": [],
   "source": [
    "type(y_pred)"
   ]
  },
  {
   "cell_type": "code",
   "execution_count": null,
   "metadata": {
    "id": "qwa5kw1IzXqy"
   },
   "outputs": [],
   "source": [
    "y_pred.shape"
   ]
  },
  {
   "cell_type": "code",
   "execution_count": null,
   "metadata": {
    "id": "XhoVLrAezXrA"
   },
   "outputs": [],
   "source": [
    "y_pred"
   ]
  },
  {
   "cell_type": "code",
   "execution_count": null,
   "metadata": {
    "id": "_JqBLwY3zXrD"
   },
   "outputs": [],
   "source": [
    "from sklearn.metrics import confusion_matrix\n",
    "\n",
    "confusion_matrix(y_5, y_pred)"
   ]
  },
  {
   "cell_type": "markdown",
   "metadata": {
    "id": "lnmZ4EphzXrK"
   },
   "source": [
    "Other possible metrics are **precision** and **recall**, and often also the **F1** score:"
   ]
  },
  {
   "cell_type": "code",
   "execution_count": null,
   "metadata": {
    "id": "r5UCFHrGzXrM"
   },
   "outputs": [],
   "source": [
    "from sklearn.metrics import precision_score\n",
    "precision_score(y_5, y_pred)"
   ]
  },
  {
   "cell_type": "code",
   "execution_count": null,
   "metadata": {
    "id": "YASLpBK4zXrV"
   },
   "outputs": [],
   "source": [
    "from sklearn.metrics import recall_score\n",
    "recall_score(y_5, y_pred)"
   ]
  },
  {
   "cell_type": "code",
   "execution_count": null,
   "metadata": {
    "id": "CfWbdIMpzXrX"
   },
   "outputs": [],
   "source": [
    "from sklearn.metrics import f1_score\n",
    "f1_score(y_5, y_pred)"
   ]
  },
  {
   "cell_type": "code",
   "execution_count": null,
   "metadata": {
    "id": "9f-XkGt9zXrZ"
   },
   "outputs": [],
   "source": [
    "#create an array with, de-facto, the class probabilities\n",
    "y_scores = cross_val_predict(sgd_clf, X, y_5, cv=3,\n",
    "                             method=\"decision_function\")"
   ]
  },
  {
   "cell_type": "code",
   "execution_count": null,
   "metadata": {
    "id": "bfjujXTUzXra",
    "scrolled": true
   },
   "outputs": [],
   "source": [
    "y_scores"
   ]
  },
  {
   "cell_type": "code",
   "execution_count": null,
   "metadata": {
    "id": "TbUwSL1tzXre"
   },
   "outputs": [],
   "source": [
    "y_5"
   ]
  },
  {
   "cell_type": "code",
   "execution_count": null,
   "metadata": {
    "id": "rW2-p2FFzXrg"
   },
   "outputs": [],
   "source": [
    "from sklearn.metrics import roc_curve\n",
    "fpr, tpr, thresholds = roc_curve(y_5, y_scores)"
   ]
  },
  {
   "cell_type": "code",
   "execution_count": null,
   "metadata": {
    "id": "TR_q54EizXrj"
   },
   "outputs": [],
   "source": [
    "def plot_roc_curve(fpr, tpr, label=None):\n",
    "    plt.plot(fpr, tpr, linewidth=2, label=label)\n",
    "    plt.plot([0, 1], [0, 1], 'k--') # dashed diagonal\n",
    "    plt.axis([0, 1, 0, 1])                                    \n",
    "    plt.xlabel('False Positive Rate (Fall-Out)', fontsize=16) \n",
    "    plt.ylabel('True Positive Rate (Recall)', fontsize=16)    \n",
    "    plt.grid(True)                                            \n",
    "    \n",
    "plt.figure(figsize=(8, 6))                         \n",
    "plot_roc_curve(fpr, tpr)\n",
    "plt.show()"
   ]
  },
  {
   "cell_type": "code",
   "execution_count": null,
   "metadata": {
    "id": "iYl9axhWzXrk"
   },
   "outputs": [],
   "source": [
    "from sklearn.metrics import roc_auc_score\n",
    "roc_auc_score(y_5, y_scores)"
   ]
  },
  {
   "cell_type": "markdown",
   "metadata": {
    "id": "xcP_m7xRzXrm"
   },
   "source": [
    "The AUC score should result as roughly 96-97%, when comparing your work with others'. It is a good result!"
   ]
  }
 ],
 "metadata": {
  "colab": {
   "collapsed_sections": [],
   "name": "Classification_part1.ipynb",
   "provenance": [
    {
     "file_id": "https://github.com/bonacor/PhysSensProc/blob/master/Project_MNIST1.ipynb",
     "timestamp": 1574471312186
    }
   ]
  },
  "kernelspec": {
   "display_name": "Python 3 (ipykernel)",
   "language": "python",
   "name": "python3"
  },
  "language_info": {
   "codemirror_mode": {
    "name": "ipython",
    "version": 3
   },
   "file_extension": ".py",
   "mimetype": "text/x-python",
   "name": "python",
   "nbconvert_exporter": "python",
   "pygments_lexer": "ipython3",
   "version": "3.9.13"
  }
 },
 "nbformat": 4,
 "nbformat_minor": 1
}
