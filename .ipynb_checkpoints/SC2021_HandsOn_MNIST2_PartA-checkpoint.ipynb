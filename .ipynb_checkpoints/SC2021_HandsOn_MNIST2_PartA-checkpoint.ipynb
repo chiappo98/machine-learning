{
 "cells": [
  {
   "cell_type": "markdown",
   "metadata": {
    "id": "09t4_FjQuqOv"
   },
   "source": [
    "# <font color='red'>MNIST (a simple NN)</font>"
   ]
  },
  {
   "cell_type": "markdown",
   "metadata": {
    "id": "ksQdg6GPhiOE"
   },
   "source": [
    "Import MNIST."
   ]
  },
  {
   "cell_type": "code",
   "execution_count": null,
   "metadata": {
    "id": "mgZuJnvUsZT6"
   },
   "outputs": [],
   "source": [
    "from keras.datasets import mnist\n",
    "(train_images, train_labels), (test_images, test_labels) = mnist.load_data()"
   ]
  },
  {
   "cell_type": "code",
   "execution_count": null,
   "metadata": {
    "id": "tpZSbxB6sdYH"
   },
   "outputs": [],
   "source": [
    "train_images.shape"
   ]
  },
  {
   "cell_type": "code",
   "execution_count": null,
   "metadata": {
    "id": "USdposPP42rF"
   },
   "outputs": [],
   "source": [
    "test_images.shape"
   ]
  },
  {
   "cell_type": "code",
   "execution_count": null,
   "metadata": {
    "id": "BXxZUFsNpM_l"
   },
   "outputs": [],
   "source": [
    "train_images.dtype"
   ]
  },
  {
   "cell_type": "code",
   "execution_count": null,
   "metadata": {
    "id": "82z8-eRnsg3E"
   },
   "outputs": [],
   "source": [
    "len(train_labels)"
   ]
  },
  {
   "cell_type": "code",
   "execution_count": null,
   "metadata": {
    "id": "zTYfFsolpO60"
   },
   "outputs": [],
   "source": [
    "test_images.dtype"
   ]
  },
  {
   "cell_type": "code",
   "execution_count": null,
   "metadata": {
    "id": "tVMu4cbqsid9"
   },
   "outputs": [],
   "source": [
    "train_labels"
   ]
  },
  {
   "cell_type": "code",
   "execution_count": null,
   "metadata": {
    "id": "VGAWch-vskQ7"
   },
   "outputs": [],
   "source": [
    "test_images.shape"
   ]
  },
  {
   "cell_type": "code",
   "execution_count": null,
   "metadata": {
    "id": "l2r2Y2iKsooV"
   },
   "outputs": [],
   "source": [
    "len(test_labels)"
   ]
  },
  {
   "cell_type": "code",
   "execution_count": null,
   "metadata": {
    "id": "gBaa1V2PsqH0"
   },
   "outputs": [],
   "source": [
    "test_labels"
   ]
  },
  {
   "cell_type": "markdown",
   "metadata": {
    "id": "IONVmq7rhu-P"
   },
   "source": [
    "The workflow will be as follows: \n",
    "1.   we’ll feed the neural network the training data, `train_images` and `train_labels`. The network will then learn to associate images and labels. \n",
    "2.   we’ll ask the network to produce predictions for `test_images`, and we’ll verify whether these predictions match the labels from test_labels."
   ]
  },
  {
   "cell_type": "code",
   "execution_count": null,
   "metadata": {
    "id": "njaBTMGvssNe"
   },
   "outputs": [],
   "source": [
    "# the network architecture\n",
    "from tensorflow.keras import models\n",
    "from tensorflow.keras import layers\n",
    "my_network = models.Sequential([\n",
    "  layers.Dense(512, activation='relu'),\n",
    "  layers.Dense(10, activation='softmax')\n",
    "])"
   ]
  },
  {
   "cell_type": "markdown",
   "metadata": {
    "id": "qH2-sCsKkpy1"
   },
   "source": [
    "A **layer** is a data-processing module that you can think of as a filter for data. Layers extract *representations* out of the data fed into them.\n"
   ]
  },
  {
   "cell_type": "markdown",
   "metadata": {
    "id": "QYaXvKg9lVvb"
   },
   "source": [
    "In this specific case, our NN consists of:\n",
    "\n",
    "*   a sequence of two `Dense` layers, which are `densely connected` (also called *fully connected*) neural layers\n",
    "*   the second (and last) layer is a bit special: it is a 10-way `softmax` layer, which will return an array of 10 numbers, our *probability scores* (summing to 1). "
   ]
  },
  {
   "cell_type": "markdown",
   "metadata": {
    "id": "Vfe-MJA-mFOO"
   },
   "source": [
    "To make the network ready for training, we need to pick 3 more things, in the compilation step:\n",
    "\n",
    "*   A **loss function** (`loss` below)\n",
    "*   An **optimizer** (`optimizer` below)\n",
    "*   Some **metrics** (`metrics` below) \n"
   ]
  },
  {
   "cell_type": "code",
   "execution_count": null,
   "metadata": {
    "id": "prUNd5tMsuyw"
   },
   "outputs": [],
   "source": [
    "# the compilation step\n",
    "my_network.compile(optimizer='rmsprop',\n",
    "                   loss='sparse_categorical_crossentropy',\n",
    "                   metrics=['accuracy'])"
   ]
  },
  {
   "cell_type": "markdown",
   "metadata": {
    "id": "GARam_hXoFu1"
   },
   "source": [
    "Before training, we’ll preprocess the data by reshaping it into the shape the network expects and scaling it so that all values are in the [0, 1] interval. \n",
    "\n"
   ]
  },
  {
   "cell_type": "code",
   "execution_count": null,
   "metadata": {
    "id": "sYQ2ADjysxVs"
   },
   "outputs": [],
   "source": [
    "# Preparing the image data\n",
    "train_images = train_images.reshape((60000, 28 * 28))\n",
    "train_images = train_images.astype('float32') / 255\n",
    "#\n",
    "test_images = test_images.reshape((10000, 28 * 28))\n",
    "test_images = test_images.astype('float32') / 255"
   ]
  },
  {
   "cell_type": "code",
   "execution_count": null,
   "metadata": {
    "id": "jv7wlN3Bo1hQ"
   },
   "outputs": [],
   "source": [
    "train_images.shape"
   ]
  },
  {
   "cell_type": "code",
   "execution_count": null,
   "metadata": {
    "id": "eeja6xzbo3N9"
   },
   "outputs": [],
   "source": [
    "train_images.dtype"
   ]
  },
  {
   "cell_type": "code",
   "execution_count": null,
   "metadata": {
    "id": "aTtyAg61o-8k"
   },
   "outputs": [],
   "source": [
    "test_images.shape"
   ]
  },
  {
   "cell_type": "code",
   "execution_count": null,
   "metadata": {
    "id": "xytxzbbqo-0U"
   },
   "outputs": [],
   "source": [
    "test_images.dtype"
   ]
  },
  {
   "cell_type": "markdown",
   "metadata": {
    "id": "73eJoN4OqVLH"
   },
   "source": [
    "We’re now ready to train the network, via the `fit` method. "
   ]
  },
  {
   "cell_type": "code",
   "execution_count": null,
   "metadata": {
    "id": "j4sqwQysszfD"
   },
   "outputs": [],
   "source": [
    "# Fit the NN\n",
    "my_network.fit(train_images, train_labels, epochs=5, batch_size=128)"
   ]
  },
  {
   "cell_type": "markdown",
   "metadata": {
    "id": "zx-oddoBsrv2"
   },
   "source": [
    "Two quantities are displayed during training:\n",
    "\n",
    "*   the loss of the network over the training data\n",
    "*   the accuracy of the network over the training data.\n",
    "\n",
    "We quickly reach a high accuracy e.g. 0.98 or 0.99 (98% or 99%) on the training data. \n",
    "\n",
    "Now let’s check that the model performs well on the test set, too:"
   ]
  },
  {
   "cell_type": "code",
   "execution_count": null,
   "metadata": {
    "id": "SDFAFU27s6Rs"
   },
   "outputs": [],
   "source": [
    "test_loss, test_acc = my_network.evaluate(test_images, test_labels)\n",
    "print('test_acc:', test_acc)"
   ]
  },
  {
   "cell_type": "markdown",
   "metadata": {
    "id": "wKtZfZT6uXcr"
   },
   "source": [
    "The test set accuracy should turn out to be a bit lower than the training set accuracy. This gap between training accuracy and test accuracy is an example of overfitting."
   ]
  }
 ],
 "metadata": {
  "colab": {
   "authorship_tag": "ABX9TyM9tBrBRFPyHbcLKWgsk1bX",
   "collapsed_sections": [],
   "name": "SC2021_HandsOn_MNIST2_PartA.ipynb",
   "provenance": [
    {
     "file_id": "13RqpGhpw3BzIcDUMzFBSqhQpv1u_T95K",
     "timestamp": 1619954326760
    }
   ]
  },
  "kernelspec": {
   "display_name": "Python 3 (ipykernel)",
   "language": "python",
   "name": "python3"
  },
  "language_info": {
   "codemirror_mode": {
    "name": "ipython",
    "version": 3
   },
   "file_extension": ".py",
   "mimetype": "text/x-python",
   "name": "python",
   "nbconvert_exporter": "python",
   "pygments_lexer": "ipython3",
   "version": "3.9.13"
  }
 },
 "nbformat": 4,
 "nbformat_minor": 1
}
